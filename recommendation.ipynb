{
 "cells": [
  {
   "cell_type": "markdown",
   "metadata": {},
   "source": [
    "# Dependencies"
   ]
  },
  {
   "cell_type": "code",
   "execution_count": 1,
   "metadata": {},
   "outputs": [],
   "source": [
    "# imports\n",
    "import pandas as pd \n",
    "from sentence_transformers import SentenceTransformer\n",
    "from sklearn.neighbors import NearestNeighbors\n",
    "import joblib"
   ]
  },
  {
   "cell_type": "markdown",
   "metadata": {},
   "source": [
    "# Load data"
   ]
  },
  {
   "cell_type": "code",
   "execution_count": 9,
   "metadata": {},
   "outputs": [
    {
     "data": {
      "text/html": [
       "<div>\n",
       "<style scoped>\n",
       "    .dataframe tbody tr th:only-of-type {\n",
       "        vertical-align: middle;\n",
       "    }\n",
       "\n",
       "    .dataframe tbody tr th {\n",
       "        vertical-align: top;\n",
       "    }\n",
       "\n",
       "    .dataframe thead th {\n",
       "        text-align: right;\n",
       "    }\n",
       "</style>\n",
       "<table border=\"1\" class=\"dataframe\">\n",
       "  <thead>\n",
       "    <tr style=\"text-align: right;\">\n",
       "      <th></th>\n",
       "      <th>BookID</th>\n",
       "      <th>Title</th>\n",
       "      <th>Author</th>\n",
       "      <th>Genre</th>\n",
       "      <th>Description</th>\n",
       "    </tr>\n",
       "  </thead>\n",
       "  <tbody>\n",
       "    <tr>\n",
       "      <th>0</th>\n",
       "      <td>79</td>\n",
       "      <td>Harry Potter and the Sorcerer's Stone</td>\n",
       "      <td>J.K. Rowling</td>\n",
       "      <td>Fantasy</td>\n",
       "      <td>Harry Potter has no idea how famous he is. Tha...</td>\n",
       "    </tr>\n",
       "    <tr>\n",
       "      <th>1</th>\n",
       "      <td>81</td>\n",
       "      <td>IT</td>\n",
       "      <td>Stephen King</td>\n",
       "      <td>Horror</td>\n",
       "      <td>A promise made twenty-eight years ago calls se...</td>\n",
       "    </tr>\n",
       "    <tr>\n",
       "      <th>2</th>\n",
       "      <td>84</td>\n",
       "      <td>Harry Potter and the chamber of secrets</td>\n",
       "      <td>J.K. Rowling</td>\n",
       "      <td>Fantasy</td>\n",
       "      <td>Ever since Harry Potter had come home for the ...</td>\n",
       "    </tr>\n",
       "    <tr>\n",
       "      <th>3</th>\n",
       "      <td>85</td>\n",
       "      <td>Grokking Algorithms</td>\n",
       "      <td>Aditya Bhargava</td>\n",
       "      <td>Software Engineering</td>\n",
       "      <td>Grokking Algorithms is a fully illustrated, fr...</td>\n",
       "    </tr>\n",
       "    <tr>\n",
       "      <th>4</th>\n",
       "      <td>86</td>\n",
       "      <td>Introduction to Algorithms</td>\n",
       "      <td>Thomas H. Cormen</td>\n",
       "      <td>Computer Science</td>\n",
       "      <td>Some books on algorithms are rigorous but inco...</td>\n",
       "    </tr>\n",
       "  </tbody>\n",
       "</table>\n",
       "</div>"
      ],
      "text/plain": [
       "   BookID                                     Title            Author  \\\n",
       "0      79     Harry Potter and the Sorcerer's Stone      J.K. Rowling   \n",
       "1      81                                        IT      Stephen King   \n",
       "2      84  Harry Potter and the chamber of secrets       J.K. Rowling   \n",
       "3      85                       Grokking Algorithms   Aditya Bhargava   \n",
       "4      86                Introduction to Algorithms  Thomas H. Cormen   \n",
       "\n",
       "                  Genre                                        Description  \n",
       "0              Fantasy   Harry Potter has no idea how famous he is. Tha...  \n",
       "1                Horror  A promise made twenty-eight years ago calls se...  \n",
       "2              Fantasy   Ever since Harry Potter had come home for the ...  \n",
       "3  Software Engineering  Grokking Algorithms is a fully illustrated, fr...  \n",
       "4      Computer Science  Some books on algorithms are rigorous but inco...  "
      ]
     },
     "execution_count": 9,
     "metadata": {},
     "output_type": "execute_result"
    }
   ],
   "source": [
    "df = pd.read_csv('books.csv')\n",
    "df.head()"
   ]
  },
  {
   "cell_type": "code",
   "execution_count": 10,
   "metadata": {},
   "outputs": [
    {
     "name": "stdout",
     "output_type": "stream",
     "text": [
      "<class 'pandas.core.frame.DataFrame'>\n",
      "RangeIndex: 10 entries, 0 to 9\n",
      "Data columns (total 5 columns):\n",
      " #   Column       Non-Null Count  Dtype \n",
      "---  ------       --------------  ----- \n",
      " 0   BookID       10 non-null     int64 \n",
      " 1   Title        10 non-null     object\n",
      " 2   Author       10 non-null     object\n",
      " 3   Genre        10 non-null     object\n",
      " 4   Description  10 non-null     object\n",
      "dtypes: int64(1), object(4)\n",
      "memory usage: 532.0+ bytes\n"
     ]
    }
   ],
   "source": [
    "df.info()"
   ]
  },
  {
   "cell_type": "code",
   "execution_count": 11,
   "metadata": {},
   "outputs": [
    {
     "data": {
      "text/html": [
       "<div>\n",
       "<style scoped>\n",
       "    .dataframe tbody tr th:only-of-type {\n",
       "        vertical-align: middle;\n",
       "    }\n",
       "\n",
       "    .dataframe tbody tr th {\n",
       "        vertical-align: top;\n",
       "    }\n",
       "\n",
       "    .dataframe thead th {\n",
       "        text-align: right;\n",
       "    }\n",
       "</style>\n",
       "<table border=\"1\" class=\"dataframe\">\n",
       "  <thead>\n",
       "    <tr style=\"text-align: right;\">\n",
       "      <th></th>\n",
       "      <th>BookID</th>\n",
       "    </tr>\n",
       "  </thead>\n",
       "  <tbody>\n",
       "    <tr>\n",
       "      <th>count</th>\n",
       "      <td>10.000000</td>\n",
       "    </tr>\n",
       "    <tr>\n",
       "      <th>mean</th>\n",
       "      <td>86.700000</td>\n",
       "    </tr>\n",
       "    <tr>\n",
       "      <th>std</th>\n",
       "      <td>4.620005</td>\n",
       "    </tr>\n",
       "    <tr>\n",
       "      <th>min</th>\n",
       "      <td>79.000000</td>\n",
       "    </tr>\n",
       "    <tr>\n",
       "      <th>25%</th>\n",
       "      <td>84.250000</td>\n",
       "    </tr>\n",
       "    <tr>\n",
       "      <th>50%</th>\n",
       "      <td>87.000000</td>\n",
       "    </tr>\n",
       "    <tr>\n",
       "      <th>75%</th>\n",
       "      <td>89.750000</td>\n",
       "    </tr>\n",
       "    <tr>\n",
       "      <th>max</th>\n",
       "      <td>94.000000</td>\n",
       "    </tr>\n",
       "  </tbody>\n",
       "</table>\n",
       "</div>"
      ],
      "text/plain": [
       "          BookID\n",
       "count  10.000000\n",
       "mean   86.700000\n",
       "std     4.620005\n",
       "min    79.000000\n",
       "25%    84.250000\n",
       "50%    87.000000\n",
       "75%    89.750000\n",
       "max    94.000000"
      ]
     },
     "execution_count": 11,
     "metadata": {},
     "output_type": "execute_result"
    }
   ],
   "source": [
    "df.describe()"
   ]
  },
  {
   "cell_type": "code",
   "execution_count": 12,
   "metadata": {},
   "outputs": [
    {
     "data": {
      "text/plain": [
       "(10, 5)"
      ]
     },
     "execution_count": 12,
     "metadata": {},
     "output_type": "execute_result"
    }
   ],
   "source": [
    "df.shape"
   ]
  },
  {
   "cell_type": "markdown",
   "metadata": {},
   "source": [
    "# Prepare data to create embeddings"
   ]
  },
  {
   "cell_type": "code",
   "execution_count": 14,
   "metadata": {},
   "outputs": [
    {
     "data": {
      "text/html": [
       "<div>\n",
       "<style scoped>\n",
       "    .dataframe tbody tr th:only-of-type {\n",
       "        vertical-align: middle;\n",
       "    }\n",
       "\n",
       "    .dataframe tbody tr th {\n",
       "        vertical-align: top;\n",
       "    }\n",
       "\n",
       "    .dataframe thead th {\n",
       "        text-align: right;\n",
       "    }\n",
       "</style>\n",
       "<table border=\"1\" class=\"dataframe\">\n",
       "  <thead>\n",
       "    <tr style=\"text-align: right;\">\n",
       "      <th></th>\n",
       "      <th>BookID</th>\n",
       "      <th>Title</th>\n",
       "      <th>Author</th>\n",
       "      <th>Genre</th>\n",
       "      <th>Description</th>\n",
       "      <th>combined_text</th>\n",
       "    </tr>\n",
       "  </thead>\n",
       "  <tbody>\n",
       "    <tr>\n",
       "      <th>0</th>\n",
       "      <td>79</td>\n",
       "      <td>Harry Potter and the Sorcerer's Stone</td>\n",
       "      <td>J.K. Rowling</td>\n",
       "      <td>Fantasy</td>\n",
       "      <td>Harry Potter has no idea how famous he is. Tha...</td>\n",
       "      <td>Harry Potter and the Sorcerer's Stone J.K. Row...</td>\n",
       "    </tr>\n",
       "    <tr>\n",
       "      <th>1</th>\n",
       "      <td>81</td>\n",
       "      <td>IT</td>\n",
       "      <td>Stephen King</td>\n",
       "      <td>Horror</td>\n",
       "      <td>A promise made twenty-eight years ago calls se...</td>\n",
       "      <td>IT Stephen King Horror A promise made twenty-e...</td>\n",
       "    </tr>\n",
       "    <tr>\n",
       "      <th>2</th>\n",
       "      <td>84</td>\n",
       "      <td>Harry Potter and the chamber of secrets</td>\n",
       "      <td>J.K. Rowling</td>\n",
       "      <td>Fantasy</td>\n",
       "      <td>Ever since Harry Potter had come home for the ...</td>\n",
       "      <td>Harry Potter and the chamber of secrets  J.K. ...</td>\n",
       "    </tr>\n",
       "    <tr>\n",
       "      <th>3</th>\n",
       "      <td>85</td>\n",
       "      <td>Grokking Algorithms</td>\n",
       "      <td>Aditya Bhargava</td>\n",
       "      <td>Software Engineering</td>\n",
       "      <td>Grokking Algorithms is a fully illustrated, fr...</td>\n",
       "      <td>Grokking Algorithms Aditya Bhargava Software E...</td>\n",
       "    </tr>\n",
       "    <tr>\n",
       "      <th>4</th>\n",
       "      <td>86</td>\n",
       "      <td>Introduction to Algorithms</td>\n",
       "      <td>Thomas H. Cormen</td>\n",
       "      <td>Computer Science</td>\n",
       "      <td>Some books on algorithms are rigorous but inco...</td>\n",
       "      <td>Introduction to Algorithms Thomas H. Cormen Co...</td>\n",
       "    </tr>\n",
       "    <tr>\n",
       "      <th>5</th>\n",
       "      <td>88</td>\n",
       "      <td>Harry Potter and the Prisoner of Azkaban</td>\n",
       "      <td>J.K. Rowling</td>\n",
       "      <td>Fantasy</td>\n",
       "      <td>For twelve long years, the dread fortress of A...</td>\n",
       "      <td>Harry Potter and the Prisoner of Azkaban J.K. ...</td>\n",
       "    </tr>\n",
       "    <tr>\n",
       "      <th>6</th>\n",
       "      <td>89</td>\n",
       "      <td>Harry Potter and the Goblet of Fire</td>\n",
       "      <td>J.K. Rowling</td>\n",
       "      <td>Fantasy</td>\n",
       "      <td>Harry Potter is midway through his training as...</td>\n",
       "      <td>Harry Potter and the Goblet of Fire J.K. Rowli...</td>\n",
       "    </tr>\n",
       "    <tr>\n",
       "      <th>7</th>\n",
       "      <td>90</td>\n",
       "      <td>Harry Potter and the Order of the Phoenix</td>\n",
       "      <td>J.K. Rowling</td>\n",
       "      <td>Fantasy</td>\n",
       "      <td>Harry Potter is about to start his fifth year ...</td>\n",
       "      <td>Harry Potter and the Order of the Phoenix J.K....</td>\n",
       "    </tr>\n",
       "    <tr>\n",
       "      <th>8</th>\n",
       "      <td>91</td>\n",
       "      <td>Harry Potter and the Half-Blood Prince</td>\n",
       "      <td>J.K. Rowling</td>\n",
       "      <td>Fantasy</td>\n",
       "      <td>As the Harry Potter sequence draws to a close,...</td>\n",
       "      <td>Harry Potter and the Half-Blood Prince J.K. Ro...</td>\n",
       "    </tr>\n",
       "    <tr>\n",
       "      <th>9</th>\n",
       "      <td>94</td>\n",
       "      <td>The Fellowship Of The Ring: The Lord of The Rings</td>\n",
       "      <td>J.R.R. Tolkein</td>\n",
       "      <td>Fantasy</td>\n",
       "      <td>One Ring to rule them all, One Ring to find th...</td>\n",
       "      <td>The Fellowship Of The Ring: The Lord of The Ri...</td>\n",
       "    </tr>\n",
       "  </tbody>\n",
       "</table>\n",
       "</div>"
      ],
      "text/plain": [
       "   BookID                                              Title  \\\n",
       "0      79              Harry Potter and the Sorcerer's Stone   \n",
       "1      81                                                 IT   \n",
       "2      84           Harry Potter and the chamber of secrets    \n",
       "3      85                                Grokking Algorithms   \n",
       "4      86                         Introduction to Algorithms   \n",
       "5      88           Harry Potter and the Prisoner of Azkaban   \n",
       "6      89                Harry Potter and the Goblet of Fire   \n",
       "7      90          Harry Potter and the Order of the Phoenix   \n",
       "8      91             Harry Potter and the Half-Blood Prince   \n",
       "9      94  The Fellowship Of The Ring: The Lord of The Rings   \n",
       "\n",
       "             Author                 Genre  \\\n",
       "0      J.K. Rowling              Fantasy    \n",
       "1      Stephen King                Horror   \n",
       "2      J.K. Rowling              Fantasy    \n",
       "3   Aditya Bhargava  Software Engineering   \n",
       "4  Thomas H. Cormen      Computer Science   \n",
       "5      J.K. Rowling              Fantasy    \n",
       "6      J.K. Rowling              Fantasy    \n",
       "7      J.K. Rowling              Fantasy    \n",
       "8      J.K. Rowling              Fantasy    \n",
       "9    J.R.R. Tolkein              Fantasy    \n",
       "\n",
       "                                         Description  \\\n",
       "0  Harry Potter has no idea how famous he is. Tha...   \n",
       "1  A promise made twenty-eight years ago calls se...   \n",
       "2  Ever since Harry Potter had come home for the ...   \n",
       "3  Grokking Algorithms is a fully illustrated, fr...   \n",
       "4  Some books on algorithms are rigorous but inco...   \n",
       "5  For twelve long years, the dread fortress of A...   \n",
       "6  Harry Potter is midway through his training as...   \n",
       "7  Harry Potter is about to start his fifth year ...   \n",
       "8  As the Harry Potter sequence draws to a close,...   \n",
       "9  One Ring to rule them all, One Ring to find th...   \n",
       "\n",
       "                                       combined_text  \n",
       "0  Harry Potter and the Sorcerer's Stone J.K. Row...  \n",
       "1  IT Stephen King Horror A promise made twenty-e...  \n",
       "2  Harry Potter and the chamber of secrets  J.K. ...  \n",
       "3  Grokking Algorithms Aditya Bhargava Software E...  \n",
       "4  Introduction to Algorithms Thomas H. Cormen Co...  \n",
       "5  Harry Potter and the Prisoner of Azkaban J.K. ...  \n",
       "6  Harry Potter and the Goblet of Fire J.K. Rowli...  \n",
       "7  Harry Potter and the Order of the Phoenix J.K....  \n",
       "8  Harry Potter and the Half-Blood Prince J.K. Ro...  \n",
       "9  The Fellowship Of The Ring: The Lord of The Ri...  "
      ]
     },
     "execution_count": 14,
     "metadata": {},
     "output_type": "execute_result"
    }
   ],
   "source": [
    "# Concatenate text into a new column\n",
    "df['combined_text'] = df.apply(lambda row: ' '.join([\n",
    "    row['Title'], \n",
    "    row['Author'], \n",
    "    row['Genre'], \n",
    "    row['Description']\n",
    "]), axis=1)\n",
    "\n",
    "df"
   ]
  },
  {
   "cell_type": "markdown",
   "metadata": {},
   "source": [
    "# Create embeddings matrix for training the model "
   ]
  },
  {
   "cell_type": "code",
   "execution_count": 26,
   "metadata": {},
   "outputs": [
    {
     "data": {
      "application/vnd.jupyter.widget-view+json": {
       "model_id": "b49ce76169ed4ca3b7ceb0f8baac9371",
       "version_major": 2,
       "version_minor": 0
      },
      "text/plain": [
       "Batches:   0%|          | 0/1 [00:00<?, ?it/s]"
      ]
     },
     "metadata": {},
     "output_type": "display_data"
    }
   ],
   "source": [
    "# Load the Sentence Transformer model\n",
    "model = SentenceTransformer('all-MiniLM-L6-v2')\n",
    "\n",
    "# Generate embeddings for the concatenated text\n",
    "embeddings = model.encode(df['combined_text'].tolist(), show_progress_bar=True)"
   ]
  },
  {
   "cell_type": "markdown",
   "metadata": {},
   "source": [
    "# Book recomendation based off textual similarity using K-Nearest Neighbors (KNN) model "
   ]
  },
  {
   "cell_type": "code",
   "execution_count": 27,
   "metadata": {},
   "outputs": [
    {
     "data": {
      "text/html": [
       "<style>#sk-container-id-2 {color: black;}#sk-container-id-2 pre{padding: 0;}#sk-container-id-2 div.sk-toggleable {background-color: white;}#sk-container-id-2 label.sk-toggleable__label {cursor: pointer;display: block;width: 100%;margin-bottom: 0;padding: 0.3em;box-sizing: border-box;text-align: center;}#sk-container-id-2 label.sk-toggleable__label-arrow:before {content: \"▸\";float: left;margin-right: 0.25em;color: #696969;}#sk-container-id-2 label.sk-toggleable__label-arrow:hover:before {color: black;}#sk-container-id-2 div.sk-estimator:hover label.sk-toggleable__label-arrow:before {color: black;}#sk-container-id-2 div.sk-toggleable__content {max-height: 0;max-width: 0;overflow: hidden;text-align: left;background-color: #f0f8ff;}#sk-container-id-2 div.sk-toggleable__content pre {margin: 0.2em;color: black;border-radius: 0.25em;background-color: #f0f8ff;}#sk-container-id-2 input.sk-toggleable__control:checked~div.sk-toggleable__content {max-height: 200px;max-width: 100%;overflow: auto;}#sk-container-id-2 input.sk-toggleable__control:checked~label.sk-toggleable__label-arrow:before {content: \"▾\";}#sk-container-id-2 div.sk-estimator input.sk-toggleable__control:checked~label.sk-toggleable__label {background-color: #d4ebff;}#sk-container-id-2 div.sk-label input.sk-toggleable__control:checked~label.sk-toggleable__label {background-color: #d4ebff;}#sk-container-id-2 input.sk-hidden--visually {border: 0;clip: rect(1px 1px 1px 1px);clip: rect(1px, 1px, 1px, 1px);height: 1px;margin: -1px;overflow: hidden;padding: 0;position: absolute;width: 1px;}#sk-container-id-2 div.sk-estimator {font-family: monospace;background-color: #f0f8ff;border: 1px dotted black;border-radius: 0.25em;box-sizing: border-box;margin-bottom: 0.5em;}#sk-container-id-2 div.sk-estimator:hover {background-color: #d4ebff;}#sk-container-id-2 div.sk-parallel-item::after {content: \"\";width: 100%;border-bottom: 1px solid gray;flex-grow: 1;}#sk-container-id-2 div.sk-label:hover label.sk-toggleable__label {background-color: #d4ebff;}#sk-container-id-2 div.sk-serial::before {content: \"\";position: absolute;border-left: 1px solid gray;box-sizing: border-box;top: 0;bottom: 0;left: 50%;z-index: 0;}#sk-container-id-2 div.sk-serial {display: flex;flex-direction: column;align-items: center;background-color: white;padding-right: 0.2em;padding-left: 0.2em;position: relative;}#sk-container-id-2 div.sk-item {position: relative;z-index: 1;}#sk-container-id-2 div.sk-parallel {display: flex;align-items: stretch;justify-content: center;background-color: white;position: relative;}#sk-container-id-2 div.sk-item::before, #sk-container-id-2 div.sk-parallel-item::before {content: \"\";position: absolute;border-left: 1px solid gray;box-sizing: border-box;top: 0;bottom: 0;left: 50%;z-index: -1;}#sk-container-id-2 div.sk-parallel-item {display: flex;flex-direction: column;z-index: 1;position: relative;background-color: white;}#sk-container-id-2 div.sk-parallel-item:first-child::after {align-self: flex-end;width: 50%;}#sk-container-id-2 div.sk-parallel-item:last-child::after {align-self: flex-start;width: 50%;}#sk-container-id-2 div.sk-parallel-item:only-child::after {width: 0;}#sk-container-id-2 div.sk-dashed-wrapped {border: 1px dashed gray;margin: 0 0.4em 0.5em 0.4em;box-sizing: border-box;padding-bottom: 0.4em;background-color: white;}#sk-container-id-2 div.sk-label label {font-family: monospace;font-weight: bold;display: inline-block;line-height: 1.2em;}#sk-container-id-2 div.sk-label-container {text-align: center;}#sk-container-id-2 div.sk-container {/* jupyter's `normalize.less` sets `[hidden] { display: none; }` but bootstrap.min.css set `[hidden] { display: none !important; }` so we also need the `!important` here to be able to override the default hidden behavior on the sphinx rendered scikit-learn.org. See: https://github.com/scikit-learn/scikit-learn/issues/21755 */display: inline-block !important;position: relative;}#sk-container-id-2 div.sk-text-repr-fallback {display: none;}</style><div id=\"sk-container-id-2\" class=\"sk-top-container\"><div class=\"sk-text-repr-fallback\"><pre>NearestNeighbors(algorithm=&#x27;brute&#x27;, metric=&#x27;cosine&#x27;)</pre><b>In a Jupyter environment, please rerun this cell to show the HTML representation or trust the notebook. <br />On GitHub, the HTML representation is unable to render, please try loading this page with nbviewer.org.</b></div><div class=\"sk-container\" hidden><div class=\"sk-item\"><div class=\"sk-estimator sk-toggleable\"><input class=\"sk-toggleable__control sk-hidden--visually\" id=\"sk-estimator-id-2\" type=\"checkbox\" checked><label for=\"sk-estimator-id-2\" class=\"sk-toggleable__label sk-toggleable__label-arrow\">NearestNeighbors</label><div class=\"sk-toggleable__content\"><pre>NearestNeighbors(algorithm=&#x27;brute&#x27;, metric=&#x27;cosine&#x27;)</pre></div></div></div></div></div>"
      ],
      "text/plain": [
       "NearestNeighbors(algorithm='brute', metric='cosine')"
      ]
     },
     "execution_count": 27,
     "metadata": {},
     "output_type": "execute_result"
    }
   ],
   "source": [
    "# Using 'cosine' for metric for text similarity\n",
    "model_knn = NearestNeighbors(metric='cosine', algorithm='brute', n_neighbors=5)\n",
    "model_knn.fit(embeddings)"
   ]
  },
  {
   "cell_type": "markdown",
   "metadata": {},
   "source": [
    "# Testing recommendation system model"
   ]
  },
  {
   "cell_type": "code",
   "execution_count": 34,
   "metadata": {},
   "outputs": [],
   "source": [
    "# Function to make recommendations with case-insensitive and trimmed string matching\n",
    "def make_recommendations(title, data=df, model=model_knn, embeddings=embeddings, n_recommendations=5):\n",
    "    # Normalize the title for matching by converting to lower case and stripping spaces\n",
    "    normalized_title = title.strip().lower()\n",
    "    data['normalized_title'] = data['Title'].str.strip().str.lower()\n",
    "    \n",
    "    # Check if the normalized title exists in the dataframe\n",
    "    if normalized_title not in data['normalized_title'].values:\n",
    "        return \"Book not found in the dataset.\"\n",
    "\n",
    "    # Find the index of the book in the dataframe\n",
    "    book_idx = data.index[data['normalized_title'] == normalized_title].tolist()[0]\n",
    "\n",
    "    # Use the KNN model to find the n_recommendations closest books\n",
    "    distances, indices = model.kneighbors([embeddings[book_idx]], n_neighbors=n_recommendations + 1)\n",
    "\n",
    "    # Get the indices of the closest books (excluding the first one, which is the book itself)\n",
    "    closest_books_indices = indices.flatten()[1:]\n",
    "\n",
    "    # Return the titles of the closest books\n",
    "    recommended_titles = data.iloc[closest_books_indices]['Title'].tolist()\n",
    "    return recommended_titles\n"
   ]
  },
  {
   "cell_type": "code",
   "execution_count": 35,
   "metadata": {},
   "outputs": [
    {
     "name": "stdout",
     "output_type": "stream",
     "text": [
      "Books recommended: ['Harry Potter and the Order of the Phoenix', 'Harry Potter and the Goblet of Fire', \"Harry Potter and the Sorcerer's Stone\"]\n"
     ]
    }
   ],
   "source": [
    "# Test the function with normalized\n",
    "title_to_test = 'Harry Potter and the Chamber of Secrets'  # Add book title\n",
    "recommended_books = make_recommendations(title_to_test, df, model_knn, embeddings, 3)\n",
    "print(\"Books recommended:\", recommended_books)\n"
   ]
  },
  {
   "cell_type": "markdown",
   "metadata": {},
   "source": [
    "# Save models"
   ]
  },
  {
   "cell_type": "code",
   "execution_count": 36,
   "metadata": {},
   "outputs": [
    {
     "data": {
      "text/plain": [
       "['model_knn.pkl']"
      ]
     },
     "execution_count": 36,
     "metadata": {},
     "output_type": "execute_result"
    }
   ],
   "source": [
    "# Save the embeddings\n",
    "joblib.dump(embeddings, 'embeddings.pkl')\n",
    "\n",
    "# Save the K-Nearest Neighbors model\n",
    "joblib.dump(model_knn, 'model_knn.pkl')"
   ]
  }
 ],
 "metadata": {
  "kernelspec": {
   "display_name": "base",
   "language": "python",
   "name": "python3"
  },
  "language_info": {
   "codemirror_mode": {
    "name": "ipython",
    "version": 3
   },
   "file_extension": ".py",
   "mimetype": "text/x-python",
   "name": "python",
   "nbconvert_exporter": "python",
   "pygments_lexer": "ipython3",
   "version": "3.11.4"
  }
 },
 "nbformat": 4,
 "nbformat_minor": 2
}
